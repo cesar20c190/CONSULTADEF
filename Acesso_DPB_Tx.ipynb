{
  "nbformat": 4,
  "nbformat_minor": 0,
  "metadata": {
    "colab": {
      "provenance": [],
      "authorship_tag": "ABX9TyOeChqQi/XH51U8P54Fz205",
      "include_colab_link": true
    },
    "kernelspec": {
      "name": "python3",
      "display_name": "Python 3"
    },
    "language_info": {
      "name": "python"
    }
  },
  "cells": [
    {
      "cell_type": "markdown",
      "metadata": {
        "id": "view-in-github",
        "colab_type": "text"
      },
      "source": [
        "<a href=\"https://colab.research.google.com/github/cesar20c190/CONSULTADEF/blob/main/Acesso_DPB_Tx.ipynb\" target=\"_parent\"><img src=\"https://colab.research.google.com/assets/colab-badge.svg\" alt=\"Open In Colab\"/></a>"
      ]
    },
    {
      "cell_type": "code",
      "execution_count": null,
      "metadata": {
        "id": "DG-RpT6uoMMc"
      },
      "outputs": [],
      "source": []
    },
    {
      "cell_type": "code",
      "source": [
        "import pandas as pd\n",
        "import matplotlib.pyplot as plt\n",
        "import requests\n",
        "import json"
      ],
      "metadata": {
        "id": "C1TxgoR9oXEC"
      },
      "execution_count": null,
      "outputs": []
    },
    {
      "cell_type": "markdown",
      "source": [],
      "metadata": {
        "id": "OqeuBPQTt-gR"
      }
    },
    {
      "cell_type": "code",
      "source": [
        "url = \"https://api-publica.datajud.cnj.jus.br/api_publica_tjba/_search\" # url do TJBA\n",
        "api_key = \"APIKey cDZHYzlZa0JadVREZDJCendQbXY6SkJlTzNjLV9TRENyQk1RdnFKZGRQdw==\" # Chave pública\n",
        "\n",
        "payload = json.dumps({\n",
        "  \"size\": 10000,\n",
        "  \"sort\": [{\"dataAjuizamento\": {\"order\": \"desc\"}}] # ou asc\n",
        "})\n",
        "\n",
        "headers = {\n",
        "  'Authorization': api_key,\n",
        "  'Content-Type': 'application/json'\n",
        "}\n",
        "\n",
        "response = requests.request(\"POST\", url, headers=headers, data=payload)  # <Response [200]>\n",
        "dados_dict = response.json() # <class 'dict'>\n",
        "print(len(dados_dict))"
      ],
      "metadata": {
        "colab": {
          "base_uri": "https://localhost:8080/"
        },
        "id": "0kyv-MnNtyfC",
        "outputId": "86eff22c-3ff9-4ce6-9a54-d753cc663405"
      },
      "execution_count": 31,
      "outputs": [
        {
          "output_type": "stream",
          "name": "stdout",
          "text": [
            "4\n"
          ]
        }
      ]
    },
    {
      "cell_type": "markdown",
      "source": [],
      "metadata": {
        "id": "4Egkjb0a6mR2"
      }
    },
    {
      "cell_type": "code",
      "source": [],
      "metadata": {
        "id": "MGok7ZYY6mvT"
      },
      "execution_count": null,
      "outputs": []
    },
    {
      "cell_type": "code",
      "source": [],
      "metadata": {
        "id": "t23hxahOxg2b"
      },
      "execution_count": null,
      "outputs": []
    },
    {
      "cell_type": "code",
      "execution_count": 33,
      "metadata": {
        "colab": {
          "base_uri": "https://localhost:8080/",
          "height": 211
        },
        "id": "BYWleVQQgJ54",
        "outputId": "6d0efdfc-8419-4bbb-b2b7-04e9bb89f92c"
      },
      "outputs": [
        {
          "output_type": "error",
          "ename": "NameError",
          "evalue": "name 'codigoMunicipioIBGE' is not defined",
          "traceback": [
            "\u001b[0;31m---------------------------------------------------------------------------\u001b[0m",
            "\u001b[0;31mNameError\u001b[0m                                 Traceback (most recent call last)",
            "\u001b[0;32m<ipython-input-33-1c932791e451>\u001b[0m in \u001b[0;36m<cell line: 0>\u001b[0;34m()\u001b[0m\n\u001b[1;32m     11\u001b[0m   \u001b[0mcodigo\u001b[0m \u001b[0;34m=\u001b[0m \u001b[0mprocesso\u001b[0m\u001b[0;34m[\u001b[0m\u001b[0;34m'_source'\u001b[0m\u001b[0;34m]\u001b[0m\u001b[0;34m[\u001b[0m\u001b[0;34m'orgaoJulgador'\u001b[0m\u001b[0;34m]\u001b[0m\u001b[0;34m[\u001b[0m\u001b[0;34m'codigo'\u001b[0m\u001b[0;34m]\u001b[0m\u001b[0;34m\u001b[0m\u001b[0;34m\u001b[0m\u001b[0m\n\u001b[1;32m     12\u001b[0m   \u001b[0morgao_julgador\u001b[0m \u001b[0;34m=\u001b[0m \u001b[0mprocesso\u001b[0m\u001b[0;34m[\u001b[0m\u001b[0;34m'_source'\u001b[0m\u001b[0;34m]\u001b[0m\u001b[0;34m[\u001b[0m\u001b[0;34m'orgaoJulgador'\u001b[0m\u001b[0;34m]\u001b[0m\u001b[0;34m[\u001b[0m\u001b[0;34m'nome'\u001b[0m\u001b[0;34m]\u001b[0m\u001b[0;34m\u001b[0m\u001b[0;34m\u001b[0m\u001b[0m\n\u001b[0;32m---> 13\u001b[0;31m   \u001b[0mmunicipio\u001b[0m \u001b[0;34m=\u001b[0m \u001b[0mprocesso\u001b[0m\u001b[0;34m[\u001b[0m\u001b[0;34m'_source'\u001b[0m\u001b[0;34m]\u001b[0m\u001b[0;34m[\u001b[0m\u001b[0;34m'orgaoJulgador'\u001b[0m\u001b[0;34m]\u001b[0m\u001b[0;34m[\u001b[0m\u001b[0mcodigoMunicipioIBGE\u001b[0m\u001b[0;34m]\u001b[0m\u001b[0;34m\u001b[0m\u001b[0;34m\u001b[0m\u001b[0m\n\u001b[0m\u001b[1;32m     14\u001b[0m   \u001b[0msort\u001b[0m \u001b[0;34m=\u001b[0m \u001b[0mprocesso\u001b[0m\u001b[0;34m[\u001b[0m\u001b[0;34m'sort'\u001b[0m\u001b[0;34m]\u001b[0m\u001b[0;34m[\u001b[0m\u001b[0;36m0\u001b[0m\u001b[0;34m]\u001b[0m\u001b[0;34m\u001b[0m\u001b[0;34m\u001b[0m\u001b[0m\n\u001b[1;32m     15\u001b[0m   \u001b[0;32mtry\u001b[0m\u001b[0;34m:\u001b[0m\u001b[0;34m\u001b[0m\u001b[0;34m\u001b[0m\u001b[0m\n",
            "\u001b[0;31mNameError\u001b[0m: name 'codigoMunicipioIBGE' is not defined"
          ]
        }
      ],
      "source": [
        "processos = []\n",
        "\n",
        "for processo in dados_dict['hits']['hits']:\n",
        "  numero_processo = processo['_source']['numeroProcesso']\n",
        "  grau = processo['_source']['grau']\n",
        "  classe = processo['_source']['classe']['nome']\n",
        "  assuntos = processo['_source']['assuntos'] # Pode ter mais de um\n",
        "  data_ajuizamento = processo['_source']['dataAjuizamento']\n",
        "  ultima_atualizacao = processo['_source']['dataHoraUltimaAtualizacao']\n",
        "  formato = processo['_source']['formato']['nome']\n",
        "  codigo = processo['_source']['orgaoJulgador']['codigo']\n",
        "  orgao_julgador = processo['_source']['orgaoJulgador']['nome']\n",
        "  municipio = processo['_source']['orgaoJulgador'][codigoMunicipioIBGE]\n",
        "  sort = processo['sort'][0]\n",
        "  try:\n",
        "    movimentos = processo['_source']['movimentos']\n",
        "  except:\n",
        "    movimentos = []\n",
        "\n",
        "  processos.append([numero_processo, classe, data_ajuizamento, ultima_atualizacao, formato, \\\n",
        "                    codigo, orgao_julgador, municipio, grau, assuntos, movimentos, sort])\n",
        "\n",
        "df = pd.DataFrame(processos, columns=['numero_processo', 'classe', 'data_ajuizamento', 'ultima_atualizacao', \\\n",
        "                      'formato', 'codigo', 'orgao_julgador', 'municipio', 'grau', 'assuntos', 'movimentos', 'sort'])\n",
        "\n",
        "df.sample(5)"
      ]
    }
  ]
}